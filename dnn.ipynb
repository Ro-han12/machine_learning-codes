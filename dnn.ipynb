{
 "cells": [
  {
   "cell_type": "code",
   "execution_count": 51,
   "metadata": {},
   "outputs": [],
   "source": [
    "import numpy as np \n",
    "import pandas as pd"
   ]
  },
  {
   "cell_type": "code",
   "execution_count": 52,
   "metadata": {},
   "outputs": [
    {
     "data": {
      "text/html": [
       "<div>\n",
       "<style scoped>\n",
       "    .dataframe tbody tr th:only-of-type {\n",
       "        vertical-align: middle;\n",
       "    }\n",
       "\n",
       "    .dataframe tbody tr th {\n",
       "        vertical-align: top;\n",
       "    }\n",
       "\n",
       "    .dataframe thead th {\n",
       "        text-align: right;\n",
       "    }\n",
       "</style>\n",
       "<table border=\"1\" class=\"dataframe\">\n",
       "  <thead>\n",
       "    <tr style=\"text-align: right;\">\n",
       "      <th></th>\n",
       "      <th>variance</th>\n",
       "      <th>skewness</th>\n",
       "      <th>curtosis</th>\n",
       "      <th>entropy</th>\n",
       "      <th>class</th>\n",
       "    </tr>\n",
       "  </thead>\n",
       "  <tbody>\n",
       "    <tr>\n",
       "      <th>0</th>\n",
       "      <td>3.62160</td>\n",
       "      <td>8.6661</td>\n",
       "      <td>-2.8073</td>\n",
       "      <td>-0.44699</td>\n",
       "      <td>0</td>\n",
       "    </tr>\n",
       "    <tr>\n",
       "      <th>1</th>\n",
       "      <td>4.54590</td>\n",
       "      <td>8.1674</td>\n",
       "      <td>-2.4586</td>\n",
       "      <td>-1.46210</td>\n",
       "      <td>0</td>\n",
       "    </tr>\n",
       "    <tr>\n",
       "      <th>2</th>\n",
       "      <td>3.86600</td>\n",
       "      <td>-2.6383</td>\n",
       "      <td>1.9242</td>\n",
       "      <td>0.10645</td>\n",
       "      <td>0</td>\n",
       "    </tr>\n",
       "    <tr>\n",
       "      <th>3</th>\n",
       "      <td>3.45660</td>\n",
       "      <td>9.5228</td>\n",
       "      <td>-4.0112</td>\n",
       "      <td>-3.59440</td>\n",
       "      <td>0</td>\n",
       "    </tr>\n",
       "    <tr>\n",
       "      <th>4</th>\n",
       "      <td>0.32924</td>\n",
       "      <td>-4.4552</td>\n",
       "      <td>4.5718</td>\n",
       "      <td>-0.98880</td>\n",
       "      <td>0</td>\n",
       "    </tr>\n",
       "  </tbody>\n",
       "</table>\n",
       "</div>"
      ],
      "text/plain": [
       "   variance  skewness  curtosis  entropy  class\n",
       "0   3.62160    8.6661   -2.8073 -0.44699      0\n",
       "1   4.54590    8.1674   -2.4586 -1.46210      0\n",
       "2   3.86600   -2.6383    1.9242  0.10645      0\n",
       "3   3.45660    9.5228   -4.0112 -3.59440      0\n",
       "4   0.32924   -4.4552    4.5718 -0.98880      0"
      ]
     },
     "execution_count": 52,
     "metadata": {},
     "output_type": "execute_result"
    }
   ],
   "source": [
    "data=pd.read_csv(\"BankNote_Authentication.csv\")\n",
    "data.head()"
   ]
  },
  {
   "cell_type": "code",
   "execution_count": 53,
   "metadata": {},
   "outputs": [],
   "source": [
    "x=data.drop(columns='class',axis=1)\n",
    "y=data['class']"
   ]
  },
  {
   "cell_type": "code",
   "execution_count": 54,
   "metadata": {},
   "outputs": [],
   "source": [
    "from sklearn.model_selection import train_test_split\n",
    "x_train,x_test,y_train,y_test=train_test_split(x,y,test_size=0.2,random_state=42)"
   ]
  },
  {
   "cell_type": "code",
   "execution_count": 55,
   "metadata": {},
   "outputs": [],
   "source": [
    "import tensorflow \n",
    "from tensorflow.keras import Sequential\n",
    "from tensorflow.keras.layers import Dense,Activation"
   ]
  },
  {
   "cell_type": "code",
   "execution_count": 56,
   "metadata": {},
   "outputs": [],
   "source": [
    "model=Sequential()\n",
    "model.add(Dense(7,input_shape=(x.shape[1],)))\n",
    "model.add(Activation('relu'))\n",
    "model.add(Dense(1,activation='sigmoid'))"
   ]
  },
  {
   "cell_type": "code",
   "execution_count": 57,
   "metadata": {},
   "outputs": [
    {
     "name": "stdout",
     "output_type": "stream",
     "text": [
      "Model: \"sequential_8\"\n",
      "_________________________________________________________________\n",
      " Layer (type)                Output Shape              Param #   \n",
      "=================================================================\n",
      " dense_12 (Dense)            (None, 7)                 35        \n",
      "                                                                 \n",
      " activation_6 (Activation)   (None, 7)                 0         \n",
      "                                                                 \n",
      " dense_13 (Dense)            (None, 1)                 8         \n",
      "                                                                 \n",
      "=================================================================\n",
      "Total params: 43 (172.00 Byte)\n",
      "Trainable params: 43 (172.00 Byte)\n",
      "Non-trainable params: 0 (0.00 Byte)\n",
      "_________________________________________________________________\n"
     ]
    }
   ],
   "source": [
    "model.summary()"
   ]
  },
  {
   "cell_type": "code",
   "execution_count": 58,
   "metadata": {},
   "outputs": [
    {
     "name": "stdout",
     "output_type": "stream",
     "text": [
      "Epoch 1/30\n",
      "35/35 [==============================] - 0s 801us/step - loss: 1.3056\n",
      "Epoch 2/30\n",
      "35/35 [==============================] - 0s 764us/step - loss: 1.0886\n",
      "Epoch 3/30\n",
      "35/35 [==============================] - 0s 706us/step - loss: 0.9200\n",
      "Epoch 4/30\n",
      "35/35 [==============================] - 0s 678us/step - loss: 0.7744\n",
      "Epoch 5/30\n",
      "35/35 [==============================] - 0s 763us/step - loss: 0.6491\n",
      "Epoch 6/30\n",
      "35/35 [==============================] - 0s 704us/step - loss: 0.5431\n",
      "Epoch 7/30\n",
      "35/35 [==============================] - 0s 754us/step - loss: 0.4552\n",
      "Epoch 8/30\n",
      "35/35 [==============================] - 0s 722us/step - loss: 0.3815\n",
      "Epoch 9/30\n",
      "35/35 [==============================] - 0s 812us/step - loss: 0.3174\n",
      "Epoch 10/30\n",
      "35/35 [==============================] - 0s 769us/step - loss: 0.2623\n",
      "Epoch 11/30\n",
      "35/35 [==============================] - 0s 709us/step - loss: 0.2159\n",
      "Epoch 12/30\n",
      "35/35 [==============================] - 0s 690us/step - loss: 0.1813\n",
      "Epoch 13/30\n",
      "35/35 [==============================] - 0s 700us/step - loss: 0.1554\n",
      "Epoch 14/30\n",
      "35/35 [==============================] - 0s 689us/step - loss: 0.1358\n",
      "Epoch 15/30\n",
      "35/35 [==============================] - 0s 703us/step - loss: 0.1201\n",
      "Epoch 16/30\n",
      "35/35 [==============================] - 0s 717us/step - loss: 0.1078\n",
      "Epoch 17/30\n",
      "35/35 [==============================] - 0s 695us/step - loss: 0.0976\n",
      "Epoch 18/30\n",
      "35/35 [==============================] - 0s 708us/step - loss: 0.0890\n",
      "Epoch 19/30\n",
      "35/35 [==============================] - 0s 693us/step - loss: 0.0818\n",
      "Epoch 20/30\n",
      "35/35 [==============================] - 0s 703us/step - loss: 0.0756\n",
      "Epoch 21/30\n",
      "35/35 [==============================] - 0s 706us/step - loss: 0.0702\n",
      "Epoch 22/30\n",
      "35/35 [==============================] - 0s 705us/step - loss: 0.0655\n",
      "Epoch 23/30\n",
      "35/35 [==============================] - 0s 700us/step - loss: 0.0613\n",
      "Epoch 24/30\n",
      "35/35 [==============================] - 0s 711us/step - loss: 0.0575\n",
      "Epoch 25/30\n",
      "35/35 [==============================] - 0s 747us/step - loss: 0.0542\n",
      "Epoch 26/30\n",
      "35/35 [==============================] - 0s 725us/step - loss: 0.0512\n",
      "Epoch 27/30\n",
      "35/35 [==============================] - 0s 714us/step - loss: 0.0484\n",
      "Epoch 28/30\n",
      "35/35 [==============================] - 0s 730us/step - loss: 0.0460\n",
      "Epoch 29/30\n",
      "35/35 [==============================] - 0s 717us/step - loss: 0.0437\n",
      "Epoch 30/30\n",
      "35/35 [==============================] - 0s 2ms/step - loss: 0.0416\n"
     ]
    },
    {
     "data": {
      "text/plain": [
       "<keras.src.callbacks.History at 0x292a67310>"
      ]
     },
     "execution_count": 58,
     "metadata": {},
     "output_type": "execute_result"
    }
   ],
   "source": [
    "model.compile(optimizer='adam',loss='binary_crossentropy')\n",
    "model.fit(x_train,y_train,epochs=30,batch_size=32)"
   ]
  },
  {
   "cell_type": "code",
   "execution_count": 59,
   "metadata": {},
   "outputs": [
    {
     "name": "stdout",
     "output_type": "stream",
     "text": [
      "9/9 [==============================] - 0s 2ms/step\n"
     ]
    }
   ],
   "source": [
    "y_pred=model.predict(x_test)"
   ]
  },
  {
   "cell_type": "code",
   "execution_count": 60,
   "metadata": {},
   "outputs": [],
   "source": [
    "y_pred=(y_pred>0.5).flatten().astype(int)"
   ]
  },
  {
   "cell_type": "code",
   "execution_count": 61,
   "metadata": {},
   "outputs": [
    {
     "data": {
      "text/plain": [
       "99.63636363636364"
      ]
     },
     "execution_count": 61,
     "metadata": {},
     "output_type": "execute_result"
    }
   ],
   "source": [
    "from sklearn.metrics import accuracy_score\n",
    "accuracy_score(y_test,y_pred)*100"
   ]
  },
  {
   "cell_type": "code",
   "execution_count": null,
   "metadata": {},
   "outputs": [],
   "source": []
  }
 ],
 "metadata": {
  "kernelspec": {
   "display_name": "Python 3",
   "language": "python",
   "name": "python3"
  },
  "language_info": {
   "codemirror_mode": {
    "name": "ipython",
    "version": 3
   },
   "file_extension": ".py",
   "mimetype": "text/x-python",
   "name": "python",
   "nbconvert_exporter": "python",
   "pygments_lexer": "ipython3",
   "version": "3.9.6"
  }
 },
 "nbformat": 4,
 "nbformat_minor": 2
}
