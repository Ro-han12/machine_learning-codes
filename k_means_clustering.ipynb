{
 "cells": [
  {
   "cell_type": "code",
   "execution_count": 184,
   "metadata": {},
   "outputs": [],
   "source": [
    "import numpy as np \n",
    "import pandas as pd"
   ]
  },
  {
   "cell_type": "code",
   "execution_count": 185,
   "metadata": {},
   "outputs": [
    {
     "data": {
      "text/html": [
       "<div>\n",
       "<style scoped>\n",
       "    .dataframe tbody tr th:only-of-type {\n",
       "        vertical-align: middle;\n",
       "    }\n",
       "\n",
       "    .dataframe tbody tr th {\n",
       "        vertical-align: top;\n",
       "    }\n",
       "\n",
       "    .dataframe thead th {\n",
       "        text-align: right;\n",
       "    }\n",
       "</style>\n",
       "<table border=\"1\" class=\"dataframe\">\n",
       "  <thead>\n",
       "    <tr style=\"text-align: right;\">\n",
       "      <th></th>\n",
       "      <th>Alcohol</th>\n",
       "      <th>Malic_Acid</th>\n",
       "      <th>Ash</th>\n",
       "      <th>Ash_Alcanity</th>\n",
       "      <th>Magnesium</th>\n",
       "      <th>Total_Phenols</th>\n",
       "      <th>Flavanoids</th>\n",
       "      <th>Nonflavanoid_Phenols</th>\n",
       "      <th>Proanthocyanins</th>\n",
       "      <th>Color_Intensity</th>\n",
       "      <th>Hue</th>\n",
       "      <th>OD280</th>\n",
       "      <th>Proline</th>\n",
       "    </tr>\n",
       "  </thead>\n",
       "  <tbody>\n",
       "    <tr>\n",
       "      <th>0</th>\n",
       "      <td>14.23</td>\n",
       "      <td>1.71</td>\n",
       "      <td>2.43</td>\n",
       "      <td>15.6</td>\n",
       "      <td>127</td>\n",
       "      <td>2.80</td>\n",
       "      <td>3.06</td>\n",
       "      <td>0.28</td>\n",
       "      <td>2.29</td>\n",
       "      <td>5.64</td>\n",
       "      <td>1.04</td>\n",
       "      <td>3.92</td>\n",
       "      <td>1065</td>\n",
       "    </tr>\n",
       "    <tr>\n",
       "      <th>1</th>\n",
       "      <td>13.20</td>\n",
       "      <td>1.78</td>\n",
       "      <td>2.14</td>\n",
       "      <td>11.2</td>\n",
       "      <td>100</td>\n",
       "      <td>2.65</td>\n",
       "      <td>2.76</td>\n",
       "      <td>0.26</td>\n",
       "      <td>1.28</td>\n",
       "      <td>4.38</td>\n",
       "      <td>1.05</td>\n",
       "      <td>3.40</td>\n",
       "      <td>1050</td>\n",
       "    </tr>\n",
       "    <tr>\n",
       "      <th>2</th>\n",
       "      <td>13.16</td>\n",
       "      <td>2.36</td>\n",
       "      <td>2.67</td>\n",
       "      <td>18.6</td>\n",
       "      <td>101</td>\n",
       "      <td>2.80</td>\n",
       "      <td>3.24</td>\n",
       "      <td>0.30</td>\n",
       "      <td>2.81</td>\n",
       "      <td>5.68</td>\n",
       "      <td>1.03</td>\n",
       "      <td>3.17</td>\n",
       "      <td>1185</td>\n",
       "    </tr>\n",
       "    <tr>\n",
       "      <th>3</th>\n",
       "      <td>14.37</td>\n",
       "      <td>1.95</td>\n",
       "      <td>2.50</td>\n",
       "      <td>16.8</td>\n",
       "      <td>113</td>\n",
       "      <td>3.85</td>\n",
       "      <td>3.49</td>\n",
       "      <td>0.24</td>\n",
       "      <td>2.18</td>\n",
       "      <td>7.80</td>\n",
       "      <td>0.86</td>\n",
       "      <td>3.45</td>\n",
       "      <td>1480</td>\n",
       "    </tr>\n",
       "    <tr>\n",
       "      <th>4</th>\n",
       "      <td>13.24</td>\n",
       "      <td>2.59</td>\n",
       "      <td>2.87</td>\n",
       "      <td>21.0</td>\n",
       "      <td>118</td>\n",
       "      <td>2.80</td>\n",
       "      <td>2.69</td>\n",
       "      <td>0.39</td>\n",
       "      <td>1.82</td>\n",
       "      <td>4.32</td>\n",
       "      <td>1.04</td>\n",
       "      <td>2.93</td>\n",
       "      <td>735</td>\n",
       "    </tr>\n",
       "  </tbody>\n",
       "</table>\n",
       "</div>"
      ],
      "text/plain": [
       "   Alcohol  Malic_Acid   Ash  Ash_Alcanity  Magnesium  Total_Phenols  \\\n",
       "0    14.23        1.71  2.43          15.6        127           2.80   \n",
       "1    13.20        1.78  2.14          11.2        100           2.65   \n",
       "2    13.16        2.36  2.67          18.6        101           2.80   \n",
       "3    14.37        1.95  2.50          16.8        113           3.85   \n",
       "4    13.24        2.59  2.87          21.0        118           2.80   \n",
       "\n",
       "   Flavanoids  Nonflavanoid_Phenols  Proanthocyanins  Color_Intensity   Hue  \\\n",
       "0        3.06                  0.28             2.29             5.64  1.04   \n",
       "1        2.76                  0.26             1.28             4.38  1.05   \n",
       "2        3.24                  0.30             2.81             5.68  1.03   \n",
       "3        3.49                  0.24             2.18             7.80  0.86   \n",
       "4        2.69                  0.39             1.82             4.32  1.04   \n",
       "\n",
       "   OD280  Proline  \n",
       "0   3.92     1065  \n",
       "1   3.40     1050  \n",
       "2   3.17     1185  \n",
       "3   3.45     1480  \n",
       "4   2.93      735  "
      ]
     },
     "execution_count": 185,
     "metadata": {},
     "output_type": "execute_result"
    }
   ],
   "source": [
    "data=pd.read_csv(\"wine-clustering.csv\")\n",
    "data.head()"
   ]
  },
  {
   "cell_type": "code",
   "execution_count": 186,
   "metadata": {},
   "outputs": [
    {
     "data": {
      "text/plain": [
       "Alcohol                 0\n",
       "Malic_Acid              0\n",
       "Ash                     0\n",
       "Ash_Alcanity            0\n",
       "Magnesium               0\n",
       "Total_Phenols           0\n",
       "Flavanoids              0\n",
       "Nonflavanoid_Phenols    0\n",
       "Proanthocyanins         0\n",
       "Color_Intensity         0\n",
       "Hue                     0\n",
       "OD280                   0\n",
       "Proline                 0\n",
       "dtype: int64"
      ]
     },
     "execution_count": 186,
     "metadata": {},
     "output_type": "execute_result"
    }
   ],
   "source": [
    "data.isnull().sum()"
   ]
  },
  {
   "cell_type": "code",
   "execution_count": 187,
   "metadata": {},
   "outputs": [],
   "source": [
    "data.head()\n",
    "selected_features=data[['OD280','Alcohol']]"
   ]
  },
  {
   "cell_type": "code",
   "execution_count": 188,
   "metadata": {},
   "outputs": [
    {
     "data": {
      "text/plain": [
       "array([[0.97069597, 0.84210526],\n",
       "       [0.78021978, 0.57105263],\n",
       "       [0.6959707 , 0.56052632],\n",
       "       [0.7985348 , 0.87894737],\n",
       "       [0.60805861, 0.58157895],\n",
       "       [0.57875458, 0.83421053],\n",
       "       [0.84615385, 0.88421053],\n",
       "       [0.84615385, 0.79736842],\n",
       "       [0.57875458, 1.        ],\n",
       "       [0.83516484, 0.74473684],\n",
       "       [0.6959707 , 0.80789474],\n",
       "       [0.56776557, 0.81315789],\n",
       "       [0.5970696 , 0.71578947],\n",
       "       [0.53479853, 0.97894737],\n",
       "       [0.63369963, 0.88157895],\n",
       "       [0.58974359, 0.68421053],\n",
       "       [0.50549451, 0.86052632],\n",
       "       [0.47619048, 0.73684211],\n",
       "       [0.56776557, 0.83157895],\n",
       "       [0.76556777, 0.68684211],\n",
       "       [0.89377289, 0.79736842],\n",
       "       [0.82417582, 0.5       ],\n",
       "       [1.        , 0.70526316],\n",
       "       [0.86446886, 0.47894737],\n",
       "       [0.93406593, 0.65      ],\n",
       "       [0.70695971, 0.53157895],\n",
       "       [0.71428571, 0.62105263],\n",
       "       [0.54945055, 0.59736842],\n",
       "       [0.78021978, 0.74736842],\n",
       "       [0.84981685, 0.78684211],\n",
       "       [0.52747253, 0.71052632],\n",
       "       [0.58974359, 0.67105263],\n",
       "       [0.58608059, 0.69736842],\n",
       "       [0.63369963, 0.71842105],\n",
       "       [0.58608059, 0.65263158],\n",
       "       [0.80586081, 0.64473684],\n",
       "       [0.55311355, 0.59210526],\n",
       "       [0.45421245, 0.53157895],\n",
       "       [0.52014652, 0.53684211],\n",
       "       [0.82783883, 0.83947368],\n",
       "       [0.77289377, 0.66578947],\n",
       "       [0.63369963, 0.62631579],\n",
       "       [0.83882784, 0.75      ],\n",
       "       [0.63369963, 0.58157895],\n",
       "       [0.76190476, 0.53157895],\n",
       "       [0.75457875, 0.83684211],\n",
       "       [0.79487179, 0.88157895],\n",
       "       [0.75457875, 0.75526316],\n",
       "       [0.54212454, 0.80789474],\n",
       "       [0.67032967, 0.76578947],\n",
       "       [0.6007326 , 0.53157895],\n",
       "       [0.76923077, 0.73684211],\n",
       "       [0.72893773, 0.73421053],\n",
       "       [0.60805861, 0.72105263],\n",
       "       [0.70695971, 0.71315789],\n",
       "       [0.64468864, 0.66578947],\n",
       "       [0.74725275, 0.83947368],\n",
       "       [0.57509158, 0.59473684],\n",
       "       [0.58608059, 0.70789474],\n",
       "       [0.2014652 , 0.35263158],\n",
       "       [0.14652015, 0.34210526],\n",
       "       [0.11721612, 0.42368421],\n",
       "       [0.43589744, 0.69473684],\n",
       "       [0.58608059, 0.35263158],\n",
       "       [0.35164835, 0.3       ],\n",
       "       [0.37728938, 0.35263158],\n",
       "       [0.6996337 , 0.54736842],\n",
       "       [0.80952381, 0.35263158],\n",
       "       [0.24175824, 0.60789474],\n",
       "       [0.65934066, 0.31052632],\n",
       "       [0.2014652 , 0.33157895],\n",
       "       [0.69230769, 0.74473684],\n",
       "       [0.55311355, 0.64736842],\n",
       "       [0.81684982, 0.51578947],\n",
       "       [0.68131868, 0.24473684],\n",
       "       [0.31868132, 0.16578947],\n",
       "       [0.44322344, 0.52631579],\n",
       "       [0.45787546, 0.21315789],\n",
       "       [0.38095238, 0.34210526],\n",
       "       [0.68131868, 0.43947368],\n",
       "       [0.67765568, 0.25526316],\n",
       "       [0.68498168, 0.44473684],\n",
       "       [0.53113553, 0.27631579],\n",
       "       [0.27106227, 0.53157895],\n",
       "       [0.66300366, 0.21315789],\n",
       "       [0.69230769, 0.43157895],\n",
       "       [0.36263736, 0.29736842],\n",
       "       [0.71062271, 0.16315789],\n",
       "       [0.54212454, 0.16052632],\n",
       "       [0.71062271, 0.27631579],\n",
       "       [0.36630037, 0.27631579],\n",
       "       [0.50549451, 0.25526316],\n",
       "       [0.28937729, 0.43684211],\n",
       "       [0.74358974, 0.33157895],\n",
       "       [0.61904762, 0.15526316],\n",
       "       [0.4981685 , 0.37894737],\n",
       "       [0.36263736, 0.20526316],\n",
       "       [0.53846154, 0.33157895],\n",
       "       [0.54945055, 0.35263158],\n",
       "       [0.57142857, 0.33157895],\n",
       "       [0.61904762, 0.27631579],\n",
       "       [0.54945055, 0.41315789],\n",
       "       [0.77289377, 0.34473684],\n",
       "       [0.42857143, 0.20789474],\n",
       "       [0.84249084, 0.38947368],\n",
       "       [0.74358974, 0.36578947],\n",
       "       [0.6959707 , 0.32105263],\n",
       "       [0.42124542, 0.44473684],\n",
       "       [0.64102564, 0.31315789],\n",
       "       [0.72893773, 0.15263158],\n",
       "       [0.56410256, 0.11315789],\n",
       "       [0.55311355, 0.39210526],\n",
       "       [0.45054945, 0.19210526],\n",
       "       [0.38095238, 0.1       ],\n",
       "       [0.7032967 , 0.27631579],\n",
       "       [0.58608059, 0.        ],\n",
       "       [0.75457875, 0.20789474],\n",
       "       [0.61904762, 0.36578947],\n",
       "       [0.31135531, 0.45789474],\n",
       "       [0.65201465, 0.25526316],\n",
       "       [0.77655678, 0.11052632],\n",
       "       [0.88644689, 0.13947368],\n",
       "       [0.67765568, 0.36578947],\n",
       "       [0.67032967, 0.53157895],\n",
       "       [0.86813187, 0.22105263],\n",
       "       [0.73626374, 0.27368421],\n",
       "       [0.57509158, 0.36842105],\n",
       "       [0.42857143, 0.2       ],\n",
       "       [0.55311355, 0.35263158],\n",
       "       [0.47619048, 0.26578947],\n",
       "       [0.00732601, 0.48157895],\n",
       "       [0.05494505, 0.48684211],\n",
       "       [0.03296703, 0.46842105],\n",
       "       [0.00732601, 0.43947368],\n",
       "       [0.08791209, 0.38947368],\n",
       "       [0.11355311, 0.41315789],\n",
       "       [0.        , 0.32105263],\n",
       "       [0.15384615, 0.39473684],\n",
       "       [0.2014652 , 0.64736842],\n",
       "       [0.32234432, 0.47631579],\n",
       "       [0.38095238, 0.5       ],\n",
       "       [0.43956044, 0.61315789],\n",
       "       [0.28937729, 0.65526316],\n",
       "       [0.28571429, 0.68157895],\n",
       "       [0.26739927, 0.32105263],\n",
       "       [0.15018315, 0.56052632],\n",
       "       [0.02197802, 0.75      ],\n",
       "       [0.21611722, 0.48421053],\n",
       "       [0.12820513, 0.60263158],\n",
       "       [0.02197802, 0.53947368],\n",
       "       [0.01098901, 0.65      ],\n",
       "       [0.07326007, 0.46315789],\n",
       "       [0.02197802, 0.54736842],\n",
       "       [0.08791209, 0.57894737],\n",
       "       [0.1025641 , 0.40789474],\n",
       "       [0.07692308, 0.56315789],\n",
       "       [0.13553114, 0.73947368],\n",
       "       [0.16849817, 0.37368421],\n",
       "       [0.25274725, 0.87105263],\n",
       "       [0.18681319, 0.64473684],\n",
       "       [0.11355311, 0.35      ],\n",
       "       [0.2014652 , 0.7       ],\n",
       "       [0.30769231, 0.47894737],\n",
       "       [0.17582418, 0.50789474],\n",
       "       [0.15018315, 0.72368421],\n",
       "       [0.17582418, 0.71052632],\n",
       "       [0.10622711, 0.63684211],\n",
       "       [0.17582418, 0.47105263],\n",
       "       [0.19413919, 0.67105263],\n",
       "       [0.23809524, 0.62368421],\n",
       "       [0.20512821, 0.30789474],\n",
       "       [0.13186813, 0.45789474],\n",
       "       [0.16117216, 0.82368421],\n",
       "       [0.17216117, 0.70526316],\n",
       "       [0.10622711, 0.62368421],\n",
       "       [0.10622711, 0.58947368],\n",
       "       [0.12820513, 0.56315789],\n",
       "       [0.12087912, 0.81578947]])"
      ]
     },
     "execution_count": 188,
     "metadata": {},
     "output_type": "execute_result"
    }
   ],
   "source": [
    "from sklearn.preprocessing import MinMaxScaler\n",
    "scalar=MinMaxScaler()\n",
    "scalar.fit_transform(selected_features)"
   ]
  },
  {
   "cell_type": "code",
   "execution_count": 189,
   "metadata": {},
   "outputs": [
    {
     "data": {
      "image/png": "[encoded data removed]",
      "text/plain": [
       "<Figure size 640x480 with 1 Axes>"
      ]
     },
     "metadata": {},
     "output_type": "display_data"
    }
   ],
   "source": [
    "import matplotlib.pyplot as plt\n",
    "from sklearn.cluster import KMeans\n",
    "wcss=[]\n",
    "for k in range(1,11):\n",
    "    kmeans=KMeans(n_clusters=k,random_state=42,n_init='auto')\n",
    "    kmeans.fit(selected_features)\n",
    "    wcss.append(kmeans.inertia_)\n",
    "    \n",
    "plt.plot(range(1,11),wcss,marker='*')\n",
    "plt.show()"
   ]
  },
  {
   "cell_type": "code",
   "execution_count": 190,
   "metadata": {},
   "outputs": [
    {
     "data": {
      "text/html": [
       "<style>#sk-container-id-14 {color: black;}#sk-container-id-14 pre{padding: 0;}#sk-container-id-14 div.sk-toggleable {background-color: white;}#sk-container-id-14 label.sk-toggleable__label {cursor: pointer;display: block;width: 100%;margin-bottom: 0;padding: 0.3em;box-sizing: border-box;text-align: center;}#sk-container-id-14 label.sk-toggleable__label-arrow:before {content: \"▸\";float: left;margin-right: 0.25em;color: #696969;}#sk-container-id-14 label.sk-toggleable__label-arrow:hover:before {color: black;}#sk-container-id-14 div.sk-estimator:hover label.sk-toggleable__label-arrow:before {color: black;}#sk-container-id-14 div.sk-toggleable__content {max-height: 0;max-width: 0;overflow: hidden;text-align: left;background-color: #f0f8ff;}#sk-container-id-14 div.sk-toggleable__content pre {margin: 0.2em;color: black;border-radius: 0.25em;background-color: #f0f8ff;}#sk-container-id-14 input.sk-toggleable__control:checked~div.sk-toggleable__content {max-height: 200px;max-width: 100%;overflow: auto;}#sk-container-id-14 input.sk-toggleable__control:checked~label.sk-toggleable__label-arrow:before {content: \"▾\";}#sk-container-id-14 div.sk-estimator input.sk-toggleable__control:checked~label.sk-toggleable__label {background-color: #d4ebff;}#sk-container-id-14 div.sk-label input.sk-toggleable__control:checked~label.sk-toggleable__label {background-color: #d4ebff;}#sk-container-id-14 input.sk-hidden--visually {border: 0;clip: rect(1px 1px 1px 1px);clip: rect(1px, 1px, 1px, 1px);height: 1px;margin: -1px;overflow: hidden;padding: 0;position: absolute;width: 1px;}#sk-container-id-14 div.sk-estimator {font-family: monospace;background-color: #f0f8ff;border: 1px dotted black;border-radius: 0.25em;box-sizing: border-box;margin-bottom: 0.5em;}#sk-container-id-14 div.sk-estimator:hover {background-color: #d4ebff;}#sk-container-id-14 div.sk-parallel-item::after {content: \"\";width: 100%;border-bottom: 1px solid gray;flex-grow: 1;}#sk-container-id-14 div.sk-label:hover label.sk-toggleable__label {background-color: #d4ebff;}#sk-container-id-14 div.sk-serial::before {content: \"\";position: absolute;border-left: 1px solid gray;box-sizing: border-box;top: 0;bottom: 0;left: 50%;z-index: 0;}#sk-container-id-14 div.sk-serial {display: flex;flex-direction: column;align-items: center;background-color: white;padding-right: 0.2em;padding-left: 0.2em;position: relative;}#sk-container-id-14 div.sk-item {position: relative;z-index: 1;}#sk-container-id-14 div.sk-parallel {display: flex;align-items: stretch;justify-content: center;background-color: white;position: relative;}#sk-container-id-14 div.sk-item::before, #sk-container-id-14 div.sk-parallel-item::before {content: \"\";position: absolute;border-left: 1px solid gray;box-sizing: border-box;top: 0;bottom: 0;left: 50%;z-index: -1;}#sk-container-id-14 div.sk-parallel-item {display: flex;flex-direction: column;z-index: 1;position: relative;background-color: white;}#sk-container-id-14 div.sk-parallel-item:first-child::after {align-self: flex-end;width: 50%;}#sk-container-id-14 div.sk-parallel-item:last-child::after {align-self: flex-start;width: 50%;}#sk-container-id-14 div.sk-parallel-item:only-child::after {width: 0;}#sk-container-id-14 div.sk-dashed-wrapped {border: 1px dashed gray;margin: 0 0.4em 0.5em 0.4em;box-sizing: border-box;padding-bottom: 0.4em;background-color: white;}#sk-container-id-14 div.sk-label label {font-family: monospace;font-weight: bold;display: inline-block;line-height: 1.2em;}#sk-container-id-14 div.sk-label-container {text-align: center;}#sk-container-id-14 div.sk-container {/* jupyter's `normalize.less` sets `[hidden] { display: none; }` but bootstrap.min.css set `[hidden] { display: none !important; }` so we also need the `!important` here to be able to override the default hidden behavior on the sphinx rendered scikit-learn.org. See: https://github.com/scikit-learn/scikit-learn/issues/21755 */display: inline-block !important;position: relative;}#sk-container-id-14 div.sk-text-repr-fallback {display: none;}</style><div id=\"sk-container-id-14\" class=\"sk-top-container\"><div class=\"sk-text-repr-fallback\"><pre>KMeans(n_clusters=3, n_init=&#x27;auto&#x27;, random_state=42)</pre><b>In a Jupyter environment, please rerun this cell to show the HTML representation or trust the notebook. <br />On GitHub, the HTML representation is unable to render, please try loading this page with nbviewer.org.</b></div><div class=\"sk-container\" hidden><div class=\"sk-item\"><div class=\"sk-estimator sk-toggleable\"><input class=\"sk-toggleable__control sk-hidden--visually\" id=\"sk-estimator-id-14\" type=\"checkbox\" checked><label for=\"sk-estimator-id-14\" class=\"sk-toggleable__label sk-toggleable__label-arrow\">KMeans</label><div class=\"sk-toggleable__content\"><pre>KMeans(n_clusters=3, n_init=&#x27;auto&#x27;, random_state=42)</pre></div></div></div></div></div>"
      ],
      "text/plain": [
       "KMeans(n_clusters=3, n_init='auto', random_state=42)"
      ]
     },
     "execution_count": 190,
     "metadata": {},
     "output_type": "execute_result"
    }
   ],
   "source": [
    "from sklearn.cluster import KMeans\n",
    "kmeans=KMeans(n_clusters=3,random_state=42,n_init='auto')\n",
    "kmeans.fit(selected_features)"
   ]
  },
  {
   "cell_type": "code",
   "execution_count": 191,
   "metadata": {},
   "outputs": [],
   "source": [
    "y_pred=kmeans.fit_predict(selected_features)"
   ]
  },
  {
   "cell_type": "code",
   "execution_count": 192,
   "metadata": {},
   "outputs": [
    {
     "name": "stdout",
     "output_type": "stream",
     "text": [
      "[[ 2.90290909 12.07981818]\n",
      " [ 1.73741379 13.07413793]\n",
      " [ 3.14538462 13.71415385]]\n"
     ]
    }
   ],
   "source": [
    "print(kmeans.cluster_centers_)"
   ]
  },
  {
   "cell_type": "code",
   "execution_count": 193,
   "metadata": {},
   "outputs": [
    {
     "data": {
      "text/plain": [
       "0.49865025538089525"
      ]
     },
     "execution_count": 193,
     "metadata": {},
     "output_type": "execute_result"
    }
   ],
   "source": [
    "from sklearn.metrics import silhouette_score\n",
    "silhouette_score(selected_features,kmeans.labels_)"
   ]
  },
  {
   "cell_type": "code",
   "execution_count": 194,
   "metadata": {},
   "outputs": [
    {
     "data": {
      "text/plain": [
       "<matplotlib.collections.PathCollection at 0x16b140910>"
      ]
     },
     "execution_count": 194,
     "metadata": {},
     "output_type": "execute_result"
    },
    {
     "data": {
      "image/png": "[encoded data removed]",
      "text/plain": [
       "<Figure size 640x480 with 1 Axes>"
      ]
     },
     "metadata": {},
     "output_type": "display_data"
    }
   ],
   "source": [
    "import seaborn as sns\n",
    "sns.scatterplot(x=selected_features['OD280'],y=selected_features['Alcohol'],hue=kmeans.labels_)\n",
    "plt.scatter(kmeans.cluster_centers_[:,0], kmeans.cluster_centers_[:,1],s=200)"
   ]
  },
  {
   "cell_type": "code",
   "execution_count": null,
   "metadata": {},
   "outputs": [],
   "source": []
  }
 ],
 "metadata": {
  "kernelspec": {
   "display_name": "Python 3",
   "language": "python",
   "name": "python3"
  },
  "language_info": {
   "codemirror_mode": {
    "name": "ipython",
    "version": 3
   },
   "file_extension": ".py",
   "mimetype": "text/x-python",
   "name": "python",
   "nbconvert_exporter": "python",
   "pygments_lexer": "ipython3",
   "version": "3.9.6"
  }
 },
 "nbformat": 4,
 "nbformat_minor": 2
}
